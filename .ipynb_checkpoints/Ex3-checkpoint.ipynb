{
 "cells": [
  {
   "cell_type": "code",
   "execution_count": 1,
   "id": "64894c58-f73e-4fa0-8f30-250c23086e0a",
   "metadata": {},
   "outputs": [],
   "source": [
    "# Set the PySpark environment variables\n",
    "# Note! Change the SPARK_HOME value to your real pyspark location\n",
    "import os\n",
    "os.environ['/Users/97252/anaconda3/Lib/site-packages/pyspark'] = \"your_pyspark_home\"\n",
    "os.environ['PYSPARK_DRIVER_PYTHON'] = 'jupyter'\n",
    "os.environ['PYSPARK_DRIVER_PYTHON_OPTS'] = 'lab'\n",
    "os.environ['PYSPARK_PYTHON'] = 'python'"
   ]
  },
  {
   "cell_type": "code",
   "execution_count": 2,
   "id": "b1af9ba4-43f8-4240-bf96-976f767c5578",
   "metadata": {},
   "outputs": [],
   "source": [
    "# Import PySpark\n",
    "from pyspark.sql import SparkSession"
   ]
  },
  {
   "cell_type": "code",
   "execution_count": 3,
   "id": "1095af79-fb04-46ce-9ed2-506bca5abbcf",
   "metadata": {},
   "outputs": [],
   "source": [
    "# Import PySpark\n",
    "from pyspark.sql import SparkSession\n",
    "# Create a SparkSession\n",
    "spark = SparkSession.builder \\\n",
    "    .appName(\"PySpark-jupyter-demo\") \\\n",
    "    .getOrCreate()"
   ]
  },
  {
   "cell_type": "code",
   "execution_count": 4,
   "id": "1c914156-7a06-4dd3-80ee-009b8fbc68f6",
   "metadata": {},
   "outputs": [],
   "source": [
    "df_lines = spark.read.format(\"com.databricks.spark.csv\").options(header='true') \\\n",
    " .load(\"simpsons_script_lines.csv\")\n",
    "df_lines.createOrReplaceTempView(\"lines_table\")"
   ]
  },
  {
   "cell_type": "code",
   "execution_count": 5,
   "id": "3420f00a-6e12-46f8-a37b-2ca1c4a7707a",
   "metadata": {},
   "outputs": [
    {
     "name": "stdout",
     "output_type": "stream",
     "text": [
      "root\n",
      " |-- id: string (nullable = true)\n",
      " |-- episode_id: string (nullable = true)\n",
      " |-- number: string (nullable = true)\n",
      " |-- raw_text: string (nullable = true)\n",
      " |-- timestamp_in_ms: string (nullable = true)\n",
      " |-- speaking_line: string (nullable = true)\n",
      " |-- character_id: string (nullable = true)\n",
      " |-- location_id: string (nullable = true)\n",
      " |-- raw_character_text: string (nullable = true)\n",
      " |-- raw_location_text: string (nullable = true)\n",
      " |-- spoken_words: string (nullable = true)\n",
      " |-- normalized_text: string (nullable = true)\n",
      " |-- word_count: string (nullable = true)\n",
      "\n"
     ]
    }
   ],
   "source": [
    "## print lines file schema\n",
    "df_lines.printSchema()\n"
   ]
  },
  {
   "cell_type": "code",
   "execution_count": 6,
   "id": "676bcfc4-cbca-41c3-a59d-0497f130db73",
   "metadata": {},
   "outputs": [
    {
     "name": "stdout",
     "output_type": "stream",
     "text": [
      "+----+----------+------+--------------------+---------------+-------------+------------+-----------+--------------------+--------------------+--------------------+--------------------+----------+\n",
      "|  id|episode_id|number|            raw_text|timestamp_in_ms|speaking_line|character_id|location_id|  raw_character_text|   raw_location_text|        spoken_words|     normalized_text|word_count|\n",
      "+----+----------+------+--------------------+---------------+-------------+------------+-----------+--------------------+--------------------+--------------------+--------------------+----------+\n",
      "|9549|        32|   209|Miss Hoover: No, ...|         848000|         true|         464|          3|         Miss Hoover|Springfield Eleme...|No, actually, it ...|no actually it wa...|        31|\n",
      "|9550|        32|   210|Lisa Simpson: (NE...|         856000|         true|           9|          3|        Lisa Simpson|Springfield Eleme...|Where's Mr. Bergs...| wheres mr bergstrom|         3|\n",
      "|9551|        32|   211|Miss Hoover: I do...|         856000|         true|         464|          3|         Miss Hoover|Springfield Eleme...|I don't know. Alt...|i dont know altho...|        22|\n",
      "|9552|        32|   212|Lisa Simpson: Tha...|         864000|         true|           9|          3|        Lisa Simpson|Springfield Eleme...|That life is wort...|that life is wort...|         5|\n",
      "|9553|        32|   213|Edna Krabappel-Fl...|         864000|         true|          40|          3|Edna Krabappel-Fl...|Springfield Eleme...|The polls will be...|the polls will be...|        33|\n",
      "+----+----------+------+--------------------+---------------+-------------+------------+-----------+--------------------+--------------------+--------------------+--------------------+----------+\n",
      "only showing top 5 rows\n",
      "\n"
     ]
    }
   ],
   "source": [
    "## print all fields for first 5 rows\n",
    "spark.sql(\"SELECT * from lines_table\").show(5)"
   ]
  },
  {
   "cell_type": "code",
   "execution_count": 7,
   "id": "2ac34d82-8cf4-4e49-b91e-47b5a45aca4d",
   "metadata": {},
   "outputs": [
    {
     "name": "stdout",
     "output_type": "stream",
     "text": [
      "+---+----------------------------+\n",
      "|wc |raw_text                    |\n",
      "+---+----------------------------+\n",
      "|1  |Maude Flanders: Ohhh.       |\n",
      "|1  |Eerie Voice: (SCARY) Oooooo!|\n",
      "|1  |Lisa Simpson: Ooooh.        |\n",
      "|1  |Eerie Voice: (SCARY) Oooooo!|\n",
      "|1  |Kearney Zzyzwicz: Loser!    |\n",
      "|1  |Immigration Official: Name! |\n",
      "|1  |Moe Szyslak: Hello.         |\n",
      "|1  |Bart Simpson: Ow.           |\n",
      "|1  |Homer Simpson: Go! (LAUGHS) |\n",
      "|1  |Carl Carlson: Yeah.         |\n",
      "+---+----------------------------+\n",
      "only showing top 10 rows\n",
      "\n"
     ]
    }
   ],
   "source": [
    "## print the shortest 10 script lines:\n",
    "spark.sql(\"SELECT int(word_count) AS wc, raw_text FROM lines_table WHERE int(word_count) > 0 ORDER BY wc\").show(10, False)\n"
   ]
  },
  {
   "cell_type": "code",
   "execution_count": 8,
   "id": "6ca0b63d-f580-458e-a0a6-ea994c2ac417",
   "metadata": {},
   "outputs": [
    {
     "name": "stdout",
     "output_type": "stream",
     "text": [
      "+--------+\n",
      "|count(1)|\n",
      "+--------+\n",
      "|   85671|\n",
      "+--------+\n",
      "\n"
     ]
    }
   ],
   "source": [
    "## count the scenes that took more than 10 minutes\n",
    "spark.sql(\"SELECT count(*) FROM lines_table WHERE int(timestamp_in_ms) > (10 * 60 * 1000)\").show()"
   ]
  },
  {
   "cell_type": "code",
   "execution_count": 9,
   "id": "3b3c92d6-fd90-47d6-ab2c-5a93e706a31b",
   "metadata": {},
   "outputs": [],
   "source": [
    "df_lines = spark.read.format(\"com.databricks.spark.csv\").options(header='true') \\\n",
    " .load(\"simpsons_locations.csv\")\n",
    "df_lines.createOrReplaceTempView(\"locations_table\")"
   ]
  },
  {
   "cell_type": "code",
   "execution_count": 16,
   "id": "aaa8ee9b-9624-47c5-8d72-bf27929be243",
   "metadata": {},
   "outputs": [
    {
     "name": "stdout",
     "output_type": "stream",
     "text": [
      "+---+-----------------------------------------------+\n",
      "|id |location                                       |\n",
      "+---+-----------------------------------------------+\n",
      "|3  |Springfield Elementary School                  |\n",
      "|8  |Springfield Mall                               |\n",
      "|10 |Springfield Nuclear Power Plant                |\n",
      "|20 |Springfield Downs Dog Track                    |\n",
      "|21 |SPRINGFIELD DOWNS                              |\n",
      "|23 |SPRINGFIELD DOWN                               |\n",
      "|24 |SPRINGFIELD DOWNS PARKING LOT                  |\n",
      "|26 |Springfield Elementary School Playground       |\n",
      "|48 |Springfield Town Hall                          |\n",
      "|76 |Springfield Elementary School Hallway          |\n",
      "|77 |Springfield Elementary School Cafeteria        |\n",
      "|79 |Springfield Retirement Castle                  |\n",
      "|80 |Grampa's Room at Springfield Retirement Castle |\n",
      "|90 |Springfield Library                            |\n",
      "|103|Springfield Elementary School Yard             |\n",
      "|131|First Church of Springfield                    |\n",
      "|156|Springfield Elementary School Library          |\n",
      "|176|Springfield Airport                            |\n",
      "|192|Springfield Police Station                     |\n",
      "|193|Springfield Courthouse Steps                   |\n",
      "|195|Springfield High School Football Field         |\n",
      "|209|Springfield County                             |\n",
      "|216|Springfield                                    |\n",
      "|250|Lake Springfield                               |\n",
      "|251|TOP OF MOUNT SPRINGFIELD                       |\n",
      "|256|Springfield Plasma Center                      |\n",
      "|261|Springfield Speedway                           |\n",
      "|264|Springfield General Hospital                   |\n",
      "|270|Springfield Street                             |\n",
      "|271|Springfield Gorge                              |\n",
      "|272|SPRINGFIELD HOSPITAL HALLWAY                   |\n",
      "|274|Springfield Elementary School Grounds          |\n",
      "|282|Springfield Museum                             |\n",
      "|288|DREAMLIKE SUBURBAN SPRINGFIELD STREET          |\n",
      "|307|Springfield High School                        |\n",
      "|316|Springfield High School Gym                    |\n",
      "|327|SPRINGFIELD REVOLVING RESTAURANT               |\n",
      "|330|SPRINGFIELD JEWELRY STORE                      |\n",
      "|346|SPRINGFIELD STARDUST BALLROOM                  |\n",
      "|364|SPRINGFIELD COMMUNITY COLLEGE REGISTRATION     |\n",
      "|370|SPRINGFIELD ART MUSEUM                         |\n",
      "|387|Springfield Convention Center                  |\n",
      "|391|Springfield Bank                               |\n",
      "|409|SPRINGFIELD JAIL                               |\n",
      "|412|Springfield National Forest                    |\n",
      "|442|Springfield Elementary School Bus Stop         |\n",
      "|449|Downtown Springfield                           |\n",
      "|451|Springfield Prison                             |\n",
      "|453|SPRINGFIELD COUNTY JAIL                        |\n",
      "|459|RANDOM SHOTS OF SPRINGFIELD NUCLEAR POWER PLANT|\n",
      "+---+-----------------------------------------------+\n",
      "only showing top 50 rows\n",
      "\n"
     ]
    }
   ],
   "source": [
    "## print the first 50 locations that has the word \"Springfield\" in them , ignoring letters case.\n",
    "spark.sql(\" SELECT id, name AS location FROM locations_table WHERE normalized_name LIKE '%springfield%' \").show(50, False)"
   ]
  },
  {
   "cell_type": "code",
   "execution_count": 18,
   "id": "41441f1b-9356-4526-94be-665baf39eb28",
   "metadata": {},
   "outputs": [
    {
     "name": "stdout",
     "output_type": "stream",
     "text": [
      "+--------------------+\n",
      "|              quotes|\n",
      "+--------------------+\n",
      "|(JERUSALEM ROYAL ...|\n",
      "|Bart Simpson: I'm...|\n",
      "|Krusty the Clown:...|\n",
      "|Bart Simpson: Wha...|\n",
      "|Krusty the Clown:...|\n",
      "|Methuselah Grampa...|\n",
      "|Bart Simpson: Met...|\n",
      "|Methuselah Grampa...|\n",
      "|Bart Simpson: (PU...|\n",
      "|Methuselah Grampa...|\n",
      "|Bart Simpson: (ME...|\n",
      "|(Jerusalem: EXT. ...|\n",
      "|Bart Simpson: (AN...|\n",
      "|Santa's Little He...|\n",
      "|Goliath/nelson: (...|\n",
      "|Santa's Little He...|\n",
      "|Bart Simpson: You...|\n",
      "|\"Crowd: (EXCITED ...|\n",
      "|Goliath/nelson: Y...|\n",
      "|\"Crowd: (BIGGER, ...|\n",
      "+--------------------+\n",
      "only showing top 20 rows\n",
      "\n"
     ]
    }
   ],
   "source": [
    "## print 20 quotes that are located in any place that has Jerusalem in its name.\n",
    "## Note that Jerusalem may appear in any case and in any part of the location name.\n",
    "## Use JOIN for this query on another table\n",
    "spark.sql(\"\"\" SELECT l.raw_text AS quotes\n",
    "                FROM lines_table l JOIN locations_table loc ON l.location_id = loc.id \n",
    "                WHERE loc.normalized_name LIKE '%jerusalem%'\n",
    "                \"\"\").show(20)"
   ]
  },
  {
   "cell_type": "code",
   "execution_count": 21,
   "id": "00fc9491-a54f-485e-b8b2-5c499806aea9",
   "metadata": {},
   "outputs": [
    {
     "name": "stdout",
     "output_type": "stream",
     "text": [
      "+-----------+--------------------+-----+\n",
      "|location_id|            location|lines|\n",
      "+-----------+--------------------+-----+\n",
      "|          5|        Simpson Home|34568|\n",
      "|          3|Springfield Eleme...| 6996|\n",
      "|         15|        Moe's Tavern| 4567|\n",
      "|         10|Springfield Nucle...| 3552|\n",
      "|        136|         Kwik-E-Mart| 1452|\n",
      "|        131|First Church of S...| 1397|\n",
      "|         25| Simpson Living Room| 1354|\n",
      "|        270|  Springfield Street| 1326|\n",
      "|        216|         Springfield| 1299|\n",
      "|        151|         Simpson Car| 1223|\n",
      "|        188|       Flanders Home| 1151|\n",
      "|          1|              Street| 1119|\n",
      "|         48|Springfield Town ...| 1094|\n",
      "|         79|Springfield Retir...| 1043|\n",
      "|         53|         Burns Manor|  982|\n",
      "|          8|    Springfield Mall|  827|\n",
      "|        140|     Simpson Kitchen|  806|\n",
      "|        194|           Courtroom|  800|\n",
      "|         43|      Bart's Bedroom|  757|\n",
      "|         84|    Bart's Treehouse|  755|\n",
      "+-----------+--------------------+-----+\n",
      "only showing top 20 rows\n",
      "\n"
     ]
    }
   ],
   "source": [
    "## print first 20 most used locations with the count of lines spoken in them.\n",
    "## use GROUP BY for that\n",
    "spark.sql(\"\"\"SELECT location_id, raw_location_text AS location, COUNT(*) AS lines \n",
    "             FROM lines_table \n",
    "             GROUP BY location_id, raw_location_text \n",
    "             ORDER BY lines DESC\"\"\").show(20,False) "
   ]
  },
  {
   "cell_type": "code",
   "execution_count": 13,
   "id": "d829a0e0-817c-4586-bfcb-d44e348cb5f7",
   "metadata": {},
   "outputs": [],
   "source": [
    "df_lines = spark.read.format(\"com.databricks.spark.csv\").options(header='true') \\\n",
    " .load(\"simpsons_episodes.csv\")\n",
    "df_lines.createOrReplaceTempView(\"episodes_table\")"
   ]
  },
  {
   "cell_type": "code",
   "execution_count": 14,
   "id": "ce9fccec-1496-44a3-bbfe-dcff53805e10",
   "metadata": {},
   "outputs": [
    {
     "name": "stdout",
     "output_type": "stream",
     "text": [
      "+------+------------------+------------------+\n",
      "|season|number_of_episodes|average_rating    |\n",
      "+------+------------------+------------------+\n",
      "|5     |22                |8.336363636363636 |\n",
      "|7     |25                |8.324             |\n",
      "|6     |25                |8.312             |\n",
      "|4     |22                |8.268181818181818 |\n",
      "|8     |25                |8.219999999999999 |\n",
      "|3     |24                |8.154166666666665 |\n",
      "|2     |22                |8.04090909090909  |\n",
      "|9     |25                |7.8439999999999985|\n",
      "|1     |13                |7.807692307692307 |\n",
      "|10    |23                |7.569565217391306 |\n",
      "|12    |21                |7.361904761904761 |\n",
      "|11    |22                |7.290909090909093 |\n",
      "|13    |22                |7.140909090909091 |\n",
      "|14    |22                |7.077272727272727 |\n",
      "|15    |22                |7.045454545454546 |\n",
      "|16    |21                |7.042857142857143 |\n",
      "|18    |22                |7.0               |\n",
      "|19    |20                |6.935             |\n",
      "|20    |21                |6.895238095238096 |\n",
      "|17    |22                |6.863636363636362 |\n",
      "+------+------------------+------------------+\n",
      "only showing top 20 rows\n",
      "\n"
     ]
    }
   ],
   "source": [
    "## find the seasons in which the average imdb rating was the highest.\n",
    "## Print the seasons number, the number of episodes in each one and the average rating\n",
    "## in a descending order from highest average rating to lowest.\n",
    "spark.sql(\"\"\" SELECT season, count(*) AS number_of_episodes, avg(imdb_rating) AS average_rating\n",
    "                FROM episodes_table\n",
    "                GROUP BY season\n",
    "                ORDER BY average_rating DESC\n",
    "                \"\"\").show(20, False)"
   ]
  },
  {
   "cell_type": "code",
   "execution_count": 15,
   "id": "a8d7d394-9769-4b90-9468-9d7f848cb112",
   "metadata": {},
   "outputs": [
    {
     "name": "stdout",
     "output_type": "stream",
     "text": [
      "+-----------------------------+------+----------------+\n",
      "|title                        |season|number_in_season|\n",
      "+-----------------------------+------+----------------+\n",
      "|Simpsons Christmas Stories   |17    |9               |\n",
      "|The Fight Before Christmas   |22    |8               |\n",
      "|White Christmas Blues        |25    |8               |\n",
      "|I Won't Be Home for Christmas|26    |9               |\n",
      "+-----------------------------+------+----------------+\n",
      "\n"
     ]
    }
   ],
   "source": [
    "## which episodes have the title containing the word \"Christmas\"?\n",
    "\n",
    "spark.sql(\"\"\"\n",
    "    SELECT title, season, number_in_season\n",
    "    FROM episodes_table\n",
    "    WHERE title LIKE '%Christmas%'\n",
    "    ORDER BY season, number_in_season\n",
    "\"\"\").show(truncate=False)\n"
   ]
  },
  {
   "cell_type": "code",
   "execution_count": null,
   "id": "06c4ba7c-19dc-4176-a6d8-3cbd78c964ba",
   "metadata": {},
   "outputs": [],
   "source": []
  }
 ],
 "metadata": {
  "kernelspec": {
   "display_name": "Python 3 (ipykernel)",
   "language": "python",
   "name": "python3"
  },
  "language_info": {
   "codemirror_mode": {
    "name": "ipython",
    "version": 3
   },
   "file_extension": ".py",
   "mimetype": "text/x-python",
   "name": "python",
   "nbconvert_exporter": "python",
   "pygments_lexer": "ipython3",
   "version": "3.11.7"
  }
 },
 "nbformat": 4,
 "nbformat_minor": 5
}
